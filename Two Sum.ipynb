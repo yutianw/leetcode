{
 "cells": [
  {
   "cell_type": "code",
   "execution_count": 8,
   "metadata": {},
   "outputs": [
    {
     "data": {
      "text/plain": [
       "[1, 3]"
      ]
     },
     "execution_count": 8,
     "metadata": {},
     "output_type": "execute_result"
    }
   ],
   "source": [
    "def indices_for_sum(nums, target):\n",
    "    for i in range(len(nums)):\n",
    "        if target - nums[i] in numbers_seen:\n",
    "            return [numbers_seen[target - nums[i]], i]\n",
    "        numbers_seen[nums[i]] = i\n",
    "    return None\n",
    "\n",
    "target = 22\n",
    "nums = [2,7,11,15]\n",
    "numbers_seen = {}\n",
    "indices_for_sum(nums, target)"
   ]
  },
  {
   "cell_type": "code",
   "execution_count": null,
   "metadata": {},
   "outputs": [],
   "source": []
  }
 ],
 "metadata": {
  "kernelspec": {
   "display_name": "Python 3",
   "language": "python",
   "name": "python3"
  },
  "language_info": {
   "codemirror_mode": {
    "name": "ipython",
    "version": 3
   },
   "file_extension": ".py",
   "mimetype": "text/x-python",
   "name": "python",
   "nbconvert_exporter": "python",
   "pygments_lexer": "ipython3",
   "version": "3.6.5"
  }
 },
 "nbformat": 4,
 "nbformat_minor": 2
}
